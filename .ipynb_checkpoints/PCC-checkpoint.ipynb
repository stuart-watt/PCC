{
 "cells": [
  {
   "cell_type": "markdown",
   "metadata": {},
   "source": [
    "# This notebook performs PCC analysis on crop images."
   ]
  },
  {
   "cell_type": "code",
   "execution_count": 1,
   "metadata": {},
   "outputs": [],
   "source": [
    "import cv2\n",
    "import os\n",
    "import numpy as np\n",
    "import pandas as pd\n",
    "import matplotlib.pyplot as plt\n",
    "import argparse"
   ]
  },
  {
   "cell_type": "markdown",
   "metadata": {},
   "source": [
    "#### This following function allows the user to select the plant and background images to use in the training stage of the algorithm.\n",
    "\n",
    "It returns the array of 9 colour values used in the model training in the order: (B-G-R-HSV-LAB)"
   ]
  },
  {
   "cell_type": "code",
   "execution_count": 17,
   "metadata": {},
   "outputs": [],
   "source": [
    "def select_train_images(image):\n",
    "    starts, ends, ii = [], [], 0\n",
    "    img_BGR = cv2.imread(image)\n",
    "    cv2.namedWindow(\"image\")\n",
    "    clone = img_BGR.copy()\n",
    "    \n",
    "    def select_region(event, x, y, flags, params):\n",
    "        nonlocal starts, ends, ii, clone\n",
    "\n",
    "        if event == cv2.EVENT_LBUTTONDOWN:\n",
    "            starts.append((x, y))\n",
    "\n",
    "        elif event == cv2.EVENT_LBUTTONUP:\n",
    "            ends.append((x, y))\n",
    "\n",
    "            cv2.rectangle(img_BGR, starts[ii], ends[ii], (0, 255, 0), 2)\n",
    "            cv2.imshow(\"image\", clone)\n",
    "            ii += 1\n",
    "    \n",
    "    cv2.setMouseCallback(\"image\", select_region)\n",
    "\n",
    "    \n",
    "    # keep looping until the 'q' key is pressed\n",
    "    while True:\n",
    "\n",
    "        # display the image and wait for a keypress\n",
    "        cv2.imshow(\"image\", img_BGR)\n",
    "        key = cv2.waitKey(1) & 0xFF\n",
    "\n",
    "        # if the 'r' key is pressed, reset the cropping region\n",
    "        if key == ord(\"r\"):\n",
    "            img_BGR = clone.copy()\n",
    "            starts, ends, ii = [], [], 0   \n",
    "\n",
    "        # if the 'c' key is pressed, break from the loop\n",
    "        elif key == ord(\"c\"):\n",
    "            break\n",
    "\n",
    "    cv2.destroyAllWindows()\n",
    "    \n",
    "    plants = []\n",
    "    \n",
    "    img_BGR = cv2.imread(image)\n",
    "    img_HSV = cv2.cvtColor(img_BGR, cv2.COLOR_BGR2HSV)\n",
    "    img_LAB = cv2.cvtColor(img_BGR, cv2.COLOR_BGR2LAB)\n",
    "\n",
    "    # concatenate the 3 images to create the input data for the model.\n",
    "    img_final = np.concatenate((img_BGR, img_HSV, img_LAB), axis=2)\n",
    "    \n",
    "    for start, end in zip(starts, ends):\n",
    "        plants.append(img_final[start[1]:end[1], start[0]:end[0]])\n",
    "        \n",
    "    return(plants)"
   ]
  },
  {
   "cell_type": "code",
   "execution_count": 20,
   "metadata": {},
   "outputs": [
    {
     "name": "stdout",
     "output_type": "stream",
     "text": [
      "(709, 130) (1251, 186)\n",
      "(211, 359) (233, 581)\n"
     ]
    },
    {
     "data": {
      "text/plain": [
       "2"
      ]
     },
     "execution_count": 20,
     "metadata": {},
     "output_type": "execute_result"
    }
   ],
   "source": [
    "plant_img = select_train_images('train_img/rice2012nihon1089.jpg')"
   ]
  },
  {
   "cell_type": "code",
   "execution_count": 4,
   "metadata": {},
   "outputs": [
    {
     "data": {
      "text/plain": [
       "(3332, 10)"
      ]
     },
     "execution_count": 4,
     "metadata": {},
     "output_type": "execute_result"
    }
   ],
   "source": [
    "train_plants = []\n",
    "for plant in plant_img:\n",
    "    plant = plant.reshape(-1, plant.shape[-1])\n",
    "    train_plants.append(plant)\n",
    "    \n",
    "train_plants = np.concatenate(train_plants, axis=0)\n",
    "train_plants = np.concatenate((train_plants, np.ones((len(train_plants), 1))), axis=1)\n",
    "train_plants.shape"
   ]
  },
  {
   "cell_type": "code",
   "execution_count": 5,
   "metadata": {},
   "outputs": [
    {
     "data": {
      "text/plain": [
       "2"
      ]
     },
     "execution_count": 5,
     "metadata": {},
     "output_type": "execute_result"
    }
   ],
   "source": [
    "background_img = select_train_images('train_img/rice2012nihon1089.jpg')\n",
    "len(background_img)"
   ]
  },
  {
   "cell_type": "code",
   "execution_count": 6,
   "metadata": {},
   "outputs": [
    {
     "data": {
      "text/plain": [
       "(109324, 10)"
      ]
     },
     "execution_count": 6,
     "metadata": {},
     "output_type": "execute_result"
    }
   ],
   "source": [
    "train_back = []\n",
    "for back in background_img:\n",
    "    back = back.reshape(-1, back.shape[-1])\n",
    "    train_back.append(back)\n",
    "    \n",
    "train_back = np.concatenate(train_back, axis=0)\n",
    "train_back = np.concatenate((train_back, np.zeros((len(train_back), 1))), axis=1)\n",
    "train_back.shape"
   ]
  },
  {
   "cell_type": "code",
   "execution_count": 7,
   "metadata": {},
   "outputs": [],
   "source": [
    "train_set = np.concatenate((train_plants, train_back), axis=0)\n",
    "np.random.shuffle(train_set)"
   ]
  },
  {
   "cell_type": "markdown",
   "metadata": {},
   "source": [
    "Now we can train a model on the training data. First, we will use a decision tree classifier. First we must separate the features and the classes..."
   ]
  },
  {
   "cell_type": "code",
   "execution_count": 8,
   "metadata": {},
   "outputs": [],
   "source": [
    "X_train = train_set[:,:-1]\n",
    "y_train = train_set[:,-1]"
   ]
  },
  {
   "cell_type": "code",
   "execution_count": 9,
   "metadata": {},
   "outputs": [],
   "source": [
    "from sklearn.ensemble import RandomForestClassifier\n",
    "from time import perf_counter\n",
    "from sklearn import tree"
   ]
  },
  {
   "cell_type": "code",
   "execution_count": 10,
   "metadata": {},
   "outputs": [
    {
     "name": "stdout",
     "output_type": "stream",
     "text": [
      "9.443831632149497\n"
     ]
    }
   ],
   "source": [
    "start = perf_counter()\n",
    "clf = RandomForestClassifier(n_estimators=100)\n",
    "clf = clf.fit(X_train, y_train)\n",
    "end = perf_counter()\n",
    "print(end-start)"
   ]
  },
  {
   "cell_type": "code",
   "execution_count": 11,
   "metadata": {},
   "outputs": [],
   "source": [
    "# Imported images are stored in a numpy array in B-G-R order.\n",
    "\n",
    "img_BGR = cv2.imread('test_img/rice2012nihon1089.jpg')\n",
    "\n",
    "# Calculate also the image data in the HSV and LAB colour spaces\n",
    "img_HSV = cv2.cvtColor(img_BGR, cv2.COLOR_BGR2HSV)\n",
    "img_LAB = cv2.cvtColor(img_BGR, cv2.COLOR_BGR2LAB)\n",
    "\n",
    "# concatenate the 3 images to create the input data for the model.\n",
    "img_final = np.concatenate((img_BGR, img_HSV, img_LAB), axis=2).reshape((-1, 9))"
   ]
  },
  {
   "cell_type": "code",
   "execution_count": 12,
   "metadata": {},
   "outputs": [],
   "source": [
    "test_pred = clf.predict(img_final)\n",
    "\n",
    "test_pred = test_pred.reshape((len(test_pred),1))\n",
    "test_pred = np.concatenate((test_pred, test_pred, test_pred), axis=1).reshape((img_BGR.shape[0], img_BGR.shape[1], 3))"
   ]
  },
  {
   "cell_type": "code",
   "execution_count": 13,
   "metadata": {},
   "outputs": [],
   "source": [
    "# Here we 'erode' some of the noise in the filter\n",
    "\n",
    "kernel = np.ones((2, 2),np.uint8)\n",
    "test_pred = cv2.erode(test_pred, kernel, iterations=5)"
   ]
  },
  {
   "cell_type": "code",
   "execution_count": 14,
   "metadata": {},
   "outputs": [],
   "source": [
    "new_image = np.multiply(img_BGR, test_pred)"
   ]
  },
  {
   "cell_type": "code",
   "execution_count": 15,
   "metadata": {},
   "outputs": [],
   "source": [
    "resized = cv2.resize(new_image, (0,0), fx=0.5, fy=0.5)\n",
    "\n",
    "cv2.imshow('t1', resized.astype(np.uint8))\n",
    "cv2.waitKey(0)\n",
    "cv2.destroyAllWindows()"
   ]
  },
  {
   "cell_type": "code",
   "execution_count": 16,
   "metadata": {},
   "outputs": [
    {
     "data": {
      "text/plain": [
       "True"
      ]
     },
     "execution_count": 16,
     "metadata": {},
     "output_type": "execute_result"
    }
   ],
   "source": [
    "cv2.imwrite('first_image.jpg', new_image.astype(np.uint8))"
   ]
  },
  {
   "cell_type": "code",
   "execution_count": null,
   "metadata": {},
   "outputs": [],
   "source": []
  }
 ],
 "metadata": {
  "kernelspec": {
   "display_name": "Python 3",
   "language": "python",
   "name": "python3"
  },
  "language_info": {
   "codemirror_mode": {
    "name": "ipython",
    "version": 3
   },
   "file_extension": ".py",
   "mimetype": "text/x-python",
   "name": "python",
   "nbconvert_exporter": "python",
   "pygments_lexer": "ipython3",
   "version": "3.6.5"
  }
 },
 "nbformat": 4,
 "nbformat_minor": 2
}
