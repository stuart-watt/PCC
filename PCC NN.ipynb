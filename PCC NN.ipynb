{
 "cells": [
  {
   "cell_type": "code",
   "execution_count": 117,
   "metadata": {},
   "outputs": [],
   "source": [
    "import cv2\n",
    "import numpy as np\n",
    "import keras\n",
    "from keras.datasets import mnist\n",
    "from keras.models import Sequential\n",
    "from keras.layers import Dense, Dropout\n",
    "from keras.optimizers import RMSprop\n",
    "import image_select\n",
    "import matplotlib.pyplot as plt"
   ]
  },
  {
   "cell_type": "code",
   "execution_count": 222,
   "metadata": {},
   "outputs": [
    {
     "name": "stdout",
     "output_type": "stream",
     "text": [
      "Obtaining plant parts...\n",
      "Obtaining background parts...\n"
     ]
    }
   ],
   "source": [
    "image = 'train_img/t1.jpg'\n",
    "X_train, y_train = image_select.prepare_train_data(image)"
   ]
  },
  {
   "cell_type": "code",
   "execution_count": 223,
   "metadata": {},
   "outputs": [],
   "source": [
    "from sklearn.preprocessing import StandardScaler\n",
    "\n",
    "scaler = StandardScaler()\n",
    "X_train = scaler.fit_transform(X_train)"
   ]
  },
  {
   "cell_type": "code",
   "execution_count": 224,
   "metadata": {},
   "outputs": [],
   "source": [
    "model = Sequential()\n",
    "model.add(Dense(512, activation='relu', kernel_initializer='normal', input_shape=(9,)))\n",
    "model.add(Dense(16, activation='relu', kernel_initializer='normal', input_shape=(512,)))\n",
    "model.add(Dense(1, kernel_initializer='normal', activation='sigmoid'))"
   ]
  },
  {
   "cell_type": "code",
   "execution_count": 225,
   "metadata": {},
   "outputs": [
    {
     "name": "stdout",
     "output_type": "stream",
     "text": [
      "_________________________________________________________________\n",
      "Layer (type)                 Output Shape              Param #   \n",
      "=================================================================\n",
      "dense_39 (Dense)             (None, 512)               5120      \n",
      "_________________________________________________________________\n",
      "dense_40 (Dense)             (None, 16)                8208      \n",
      "_________________________________________________________________\n",
      "dense_41 (Dense)             (None, 1)                 17        \n",
      "=================================================================\n",
      "Total params: 13,345\n",
      "Trainable params: 13,345\n",
      "Non-trainable params: 0\n",
      "_________________________________________________________________\n"
     ]
    }
   ],
   "source": [
    "model.summary()"
   ]
  },
  {
   "cell_type": "code",
   "execution_count": 226,
   "metadata": {},
   "outputs": [],
   "source": [
    "model.compile(loss='binary_crossentropy',\n",
    "              optimizer='adam',\n",
    "              metrics=['accuracy'])"
   ]
  },
  {
   "cell_type": "code",
   "execution_count": 227,
   "metadata": {},
   "outputs": [
    {
     "data": {
      "text/plain": [
       "array([0., 0., 0., ..., 0., 0., 0.])"
      ]
     },
     "execution_count": 227,
     "metadata": {},
     "output_type": "execute_result"
    }
   ],
   "source": [
    "y_train"
   ]
  },
  {
   "cell_type": "code",
   "execution_count": 228,
   "metadata": {},
   "outputs": [],
   "source": [
    "y_train = y_train.astype(np.uint8)"
   ]
  },
  {
   "cell_type": "code",
   "execution_count": 229,
   "metadata": {},
   "outputs": [
    {
     "name": "stdout",
     "output_type": "stream",
     "text": [
      "Train on 46167 samples, validate on 467 samples\n",
      "Epoch 1/10\n",
      " - 1s - loss: 0.0741 - acc: 0.9941 - val_loss: 7.0617e-04 - val_acc: 1.0000\n",
      "Epoch 2/10\n",
      " - 1s - loss: 0.0028 - acc: 0.9996 - val_loss: 7.7497e-04 - val_acc: 1.0000\n",
      "Epoch 3/10\n",
      " - 1s - loss: 0.0026 - acc: 0.9996 - val_loss: 4.3980e-04 - val_acc: 1.0000\n",
      "Epoch 4/10\n",
      " - 1s - loss: 0.0026 - acc: 0.9996 - val_loss: 1.1055e-04 - val_acc: 1.0000\n",
      "Epoch 5/10\n",
      " - 1s - loss: 0.0026 - acc: 0.9996 - val_loss: 0.0015 - val_acc: 1.0000\n",
      "Epoch 6/10\n",
      " - 1s - loss: 0.0024 - acc: 0.9997 - val_loss: 3.2172e-04 - val_acc: 1.0000\n",
      "Epoch 7/10\n",
      " - 1s - loss: 0.0026 - acc: 0.9996 - val_loss: 1.6805e-04 - val_acc: 1.0000\n",
      "Epoch 8/10\n",
      " - 1s - loss: 0.0025 - acc: 0.9996 - val_loss: 1.6480e-04 - val_acc: 1.0000\n",
      "Epoch 9/10\n",
      " - 1s - loss: 0.0025 - acc: 0.9996 - val_loss: 4.4563e-04 - val_acc: 1.0000\n",
      "Epoch 10/10\n",
      " - 1s - loss: 0.0024 - acc: 0.9996 - val_loss: 0.0026 - val_acc: 1.0000\n"
     ]
    }
   ],
   "source": [
    "history = model.fit(X_train, y_train,\n",
    "                    batch_size=100,\n",
    "                    epochs=10,\n",
    "                    verbose=2,\n",
    "                   validation_split=0.01)"
   ]
  },
  {
   "cell_type": "code",
   "execution_count": 230,
   "metadata": {},
   "outputs": [
    {
     "name": "stderr",
     "output_type": "stream",
     "text": [
      "C:\\Users\\21493806\\AppData\\Local\\Continuum\\anaconda3\\lib\\site-packages\\sklearn\\utils\\validation.py:475: DataConversionWarning: Data with input dtype uint8 was converted to float64 by StandardScaler.\n",
      "  warnings.warn(msg, DataConversionWarning)\n"
     ]
    }
   ],
   "source": [
    "test_image = 'test_img/test3.jpg'\n",
    "# Imported images are stored in a numpy array in B-G-R order.\n",
    "\n",
    "img_BGR = cv2.imread(test_image)\n",
    "\n",
    "# Calculate also the image data in the HSV and LAB colour spaces\n",
    "img_HSV = cv2.cvtColor(img_BGR, cv2.COLOR_BGR2HSV)\n",
    "img_LAB = cv2.cvtColor(img_BGR, cv2.COLOR_BGR2LAB)\n",
    "\n",
    "# concatenate the 3 images to create the input data for the model.\n",
    "img_final = np.concatenate((img_BGR, img_HSV, img_LAB), axis=2).reshape((-1, 9))\n",
    "\n",
    "img_final = scaler.transform(img_final)"
   ]
  },
  {
   "cell_type": "code",
   "execution_count": 231,
   "metadata": {},
   "outputs": [],
   "source": [
    "\n",
    "predicted_cat = model.predict(img_final)"
   ]
  },
  {
   "cell_type": "code",
   "execution_count": 232,
   "metadata": {},
   "outputs": [
    {
     "data": {
      "text/plain": [
       "array([[9.7331984e-05],\n",
       "       [1.1171826e-04],\n",
       "       [1.1171826e-04],\n",
       "       ...,\n",
       "       [1.6022437e-03],\n",
       "       [1.6022437e-03],\n",
       "       [1.6022437e-03]], dtype=float32)"
      ]
     },
     "execution_count": 232,
     "metadata": {},
     "output_type": "execute_result"
    }
   ],
   "source": [
    "predicted_cat"
   ]
  },
  {
   "cell_type": "code",
   "execution_count": 233,
   "metadata": {},
   "outputs": [
    {
     "data": {
      "text/plain": [
       "(array([387860.,      0.,      0.,      0.,      0.,      0.,      0.,\n",
       "             0.,      0.,  76181.]),\n",
       " array([0. , 0.1, 0.2, 0.3, 0.4, 0.5, 0.6, 0.7, 0.8, 0.9, 1. ]),\n",
       " <a list of 10 Patch objects>)"
      ]
     },
     "execution_count": 233,
     "metadata": {},
     "output_type": "execute_result"
    },
    {
     "data": {
      "image/png": "[encoded data removed]",
      "text/plain": [
       "<Figure size 432x288 with 1 Axes>"
      ]
     },
     "metadata": {},
     "output_type": "display_data"
    }
   ],
   "source": [
    "test_pred = np.round(predicted_cat, decimals=0)\n",
    "plt.hist(test_pred)"
   ]
  },
  {
   "cell_type": "code",
   "execution_count": 234,
   "metadata": {},
   "outputs": [],
   "source": [
    "test_pred = test_pred.reshape((len(test_pred),1))\n",
    "test_pred = np.concatenate((test_pred, test_pred, test_pred), axis=1).reshape((img_BGR.shape[0], img_BGR.shape[1], 3))"
   ]
  },
  {
   "cell_type": "code",
   "execution_count": 235,
   "metadata": {},
   "outputs": [],
   "source": [
    "new_image = np.multiply(img_BGR, test_pred)"
   ]
  },
  {
   "cell_type": "code",
   "execution_count": 236,
   "metadata": {},
   "outputs": [],
   "source": [
    "#resized = cv2.resize(new_image, (0,0), fx=0.5, fy=0.5)\n",
    "\n",
    "cv2.imshow('t1', new_image.astype(np.uint8))\n",
    "cv2.waitKey(0)\n",
    "cv2.destroyAllWindows()"
   ]
  },
  {
   "cell_type": "code",
   "execution_count": 237,
   "metadata": {},
   "outputs": [
    {
     "data": {
      "text/plain": [
       "(array([381240.,   3221.,   1415.,   1115.,    869.,    772.,    842.,\n",
       "           877.,   1192.,  72498.]),\n",
       " array([1.02221863e-17, 1.00000000e-01, 2.00000000e-01, 3.00000000e-01,\n",
       "        4.00000000e-01, 5.00000000e-01, 6.00000000e-01, 7.00000000e-01,\n",
       "        8.00000000e-01, 9.00000000e-01, 1.00000000e+00]),\n",
       " <a list of 10 Patch objects>)"
      ]
     },
     "execution_count": 237,
     "metadata": {},
     "output_type": "execute_result"
    },
    {
     "data": {
      "image/png": "[encoded data removed]",
      "text/plain": [
       "<Figure size 432x288 with 1 Axes>"
      ]
     },
     "metadata": {},
     "output_type": "display_data"
    }
   ],
   "source": [
    "plt.hist(predicted_cat)"
   ]
  },
  {
   "cell_type": "code",
   "execution_count": null,
   "metadata": {},
   "outputs": [],
   "source": []
  }
 ],
 "metadata": {
  "kernelspec": {
   "display_name": "Python 3",
   "language": "python",
   "name": "python3"
  },
  "language_info": {
   "codemirror_mode": {
    "name": "ipython",
    "version": 3
   },
   "file_extension": ".py",
   "mimetype": "text/x-python",
   "name": "python",
   "nbconvert_exporter": "python",
   "pygments_lexer": "ipython3",
   "version": "3.6.5"
  }
 },
 "nbformat": 4,
 "nbformat_minor": 2
}
