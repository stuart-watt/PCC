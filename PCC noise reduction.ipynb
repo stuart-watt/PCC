{
 "cells": [
  {
   "cell_type": "code",
   "execution_count": 1,
   "metadata": {},
   "outputs": [],
   "source": [
    "import cv2\n",
    "import os\n",
    "import numpy as np\n",
    "import pandas as pd\n",
    "import matplotlib.pyplot as plt\n",
    "import argparse\n",
    "from sklearn.ensemble import RandomForestClassifier\n",
    "from time import perf_counter\n",
    "from sklearn import tree\n",
    "\n",
    "from image_select import *"
   ]
  },
  {
   "cell_type": "code",
   "execution_count": 67,
   "metadata": {},
   "outputs": [],
   "source": [
    "original = cv2.imread('train_img/t1.jpg')\n",
    "\n",
    "cv2.imshow('t1', original)\n",
    "cv2.waitKey(0)\n",
    "cv2.destroyAllWindows()"
   ]
  },
  {
   "cell_type": "code",
   "execution_count": 122,
   "metadata": {},
   "outputs": [
    {
     "name": "stdout",
     "output_type": "stream",
     "text": [
      "Obtaining plant parts...\n",
      "Obtaining background parts...\n"
     ]
    }
   ],
   "source": [
    "X_train, y_train = prepare_train_data('train_img/t1.jpg')"
   ]
  },
  {
   "cell_type": "code",
   "execution_count": 123,
   "metadata": {},
   "outputs": [
    {
     "name": "stdout",
     "output_type": "stream",
     "text": [
      "2.0132060942341923\n"
     ]
    }
   ],
   "source": [
    "start = perf_counter()\n",
    "clf = RandomForestClassifier(n_estimators=100)\n",
    "clf = clf.fit(X_train, y_train)\n",
    "end = perf_counter()\n",
    "print(end-start)"
   ]
  },
  {
   "cell_type": "code",
   "execution_count": 124,
   "metadata": {},
   "outputs": [],
   "source": [
    "# Imported images are stored in a numpy array in B-G-R order.\n",
    "\n",
    "img_BGR = cv2.imread('train_img/t1.jpg')\n",
    "\n",
    "# Calculate also the image data in the HSV and LAB colour spaces\n",
    "img_HSV = cv2.cvtColor(img_BGR, cv2.COLOR_BGR2HSV)\n",
    "img_LAB = cv2.cvtColor(img_BGR, cv2.COLOR_BGR2LAB)\n",
    "\n",
    "# concatenate the 3 images to create the input data for the model.\n",
    "img_final = np.concatenate((img_BGR, img_HSV, img_LAB), axis=2).reshape((-1, 9))"
   ]
  },
  {
   "cell_type": "code",
   "execution_count": 125,
   "metadata": {},
   "outputs": [
    {
     "name": "stdout",
     "output_type": "stream",
     "text": [
      "2.9339212075792602\n"
     ]
    }
   ],
   "source": [
    "start = perf_counter()\n",
    "test_pred = clf.predict(img_final)\n",
    "end = perf_counter()\n",
    "print(end-start)\n",
    "\n",
    "test_pred = test_pred.reshape((len(test_pred),1))\n",
    "test_pred = np.concatenate((test_pred, test_pred, test_pred), axis=1).reshape((img_BGR.shape[0], img_BGR.shape[1], 3))"
   ]
  },
  {
   "cell_type": "code",
   "execution_count": 126,
   "metadata": {},
   "outputs": [],
   "source": [
    "new_image = np.multiply(img_BGR, test_pred)\n",
    "\n",
    "resized = cv2.resize(new_image, (0,0), fx=0.5, fy=0.5)\n",
    "\n",
    "cv2.imshow('t1', new_image.astype(np.uint8))\n",
    "cv2.waitKey(0)\n",
    "cv2.destroyAllWindows()"
   ]
  },
  {
   "cell_type": "code",
   "execution_count": 75,
   "metadata": {},
   "outputs": [],
   "source": [
    "blurred_image1 = cv2.GaussianBlur(img_BGR, (11, 11), 0)\n",
    "cv2.imshow('t1', blurred_image1.astype(np.uint8))\n",
    "cv2.waitKey(0)\n",
    "cv2.destroyAllWindows()"
   ]
  },
  {
   "cell_type": "code",
   "execution_count": 149,
   "metadata": {},
   "outputs": [],
   "source": [
    "blurred_image2 = cv2.blur(img_BGR, (3, 3))\n",
    "cv2.imshow('t1', blurred_image2.astype(np.uint8))\n",
    "cv2.waitKey(0)\n",
    "cv2.destroyAllWindows()"
   ]
  },
  {
   "cell_type": "code",
   "execution_count": 156,
   "metadata": {},
   "outputs": [],
   "source": [
    "blurred_image3 = cv2.medianBlur(img_BGR, 5)\n",
    "cv2.imshow('t1', blurred_image3.astype(np.uint8))\n",
    "cv2.waitKey(0)\n",
    "cv2.destroyAllWindows()"
   ]
  },
  {
   "cell_type": "code",
   "execution_count": 145,
   "metadata": {},
   "outputs": [],
   "source": [
    "blurred_image4 = cv2.bilateralFilter(img_BGR,20,50,50)\n",
    "cv2.imshow('t1', blurred_image4.astype(np.uint8))\n",
    "cv2.waitKey(0)\n",
    "cv2.destroyAllWindows()"
   ]
  },
  {
   "cell_type": "code",
   "execution_count": 157,
   "metadata": {},
   "outputs": [],
   "source": [
    "median_HSV = cv2.cvtColor(blurred_image3, cv2.COLOR_BGR2HSV)\n",
    "median_LAB = cv2.cvtColor(blurred_image3, cv2.COLOR_BGR2LAB)\n",
    "\n",
    "# concatenate the 3 images to create the input data for the model.\n",
    "img_final = np.concatenate((blurred_image3, median_HSV, median_LAB), axis=2).reshape((-1, 9))"
   ]
  },
  {
   "cell_type": "code",
   "execution_count": 158,
   "metadata": {},
   "outputs": [
    {
     "name": "stdout",
     "output_type": "stream",
     "text": [
      "2.9301881341525586\n"
     ]
    }
   ],
   "source": [
    "start = perf_counter()\n",
    "test_pred = clf.predict(img_final)\n",
    "end = perf_counter()\n",
    "print(end-start)\n",
    "\n",
    "test_pred = test_pred.reshape((len(test_pred),1))\n",
    "test_pred = np.concatenate((test_pred, test_pred, test_pred), axis=1).reshape((img_BGR.shape[0], img_BGR.shape[1], 3))"
   ]
  },
  {
   "cell_type": "code",
   "execution_count": 159,
   "metadata": {},
   "outputs": [],
   "source": [
    "new_image = np.multiply(img_BGR, test_pred)\n",
    "\n",
    "resized = cv2.resize(new_image, (0,0), fx=0.5, fy=0.5)\n",
    "\n",
    "cv2.imshow('t1', new_image.astype(np.uint8))\n",
    "cv2.waitKey(0)\n",
    "cv2.destroyAllWindows()"
   ]
  },
  {
   "cell_type": "code",
   "execution_count": 82,
   "metadata": {},
   "outputs": [],
   "source": [
    "new_image = np.multiply(img_BGR, test_pred)\n",
    "\n",
    "resized = cv2.resize(img_BGR, (0,0), fx=0.5, fy=0.5)\n",
    "\n",
    "cv2.imshow('t1', resized.astype(np.uint8))\n",
    "cv2.waitKey(0)\n",
    "cv2.destroyAllWindows()"
   ]
  },
  {
   "cell_type": "code",
   "execution_count": null,
   "metadata": {},
   "outputs": [],
   "source": []
  }
 ],
 "metadata": {
  "kernelspec": {
   "display_name": "Python 3",
   "language": "python",
   "name": "python3"
  },
  "language_info": {
   "codemirror_mode": {
    "name": "ipython",
    "version": 3
   },
   "file_extension": ".py",
   "mimetype": "text/x-python",
   "name": "python",
   "nbconvert_exporter": "python",
   "pygments_lexer": "ipython3",
   "version": "3.6.5"
  }
 },
 "nbformat": 4,
 "nbformat_minor": 2
}
