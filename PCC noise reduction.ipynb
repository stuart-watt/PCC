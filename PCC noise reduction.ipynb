{
 "cells": [
  {
   "cell_type": "markdown",
   "metadata": {},
   "source": [
    "This notebook is for me to play around with different concepts. It is quite messy and is not intended for use in the final application."
   ]
  },
  {
   "cell_type": "code",
   "execution_count": 1,
   "metadata": {},
   "outputs": [],
   "source": [
    "import cv2\n",
    "import os\n",
    "import numpy as np\n",
    "import pandas as pd\n",
    "import matplotlib.pyplot as plt\n",
    "import argparse\n",
    "from sklearn.ensemble import RandomForestClassifier\n",
    "from time import perf_counter\n",
    "from sklearn import tree\n",
    "\n",
    "from image_select import *"
   ]
  },
  {
   "cell_type": "code",
   "execution_count": 2,
   "metadata": {},
   "outputs": [],
   "source": [
    "original = cv2.imread('train_img/t1.jpg')\n",
    "\n",
    "cv2.imshow('t1', original)\n",
    "cv2.waitKey(0)\n",
    "cv2.destroyAllWindows()"
   ]
  },
  {
   "cell_type": "code",
   "execution_count": 3,
   "metadata": {},
   "outputs": [
    {
     "name": "stdout",
     "output_type": "stream",
     "text": [
      "Obtaining plant parts...\n",
      "Obtaining background parts...\n"
     ]
    },
    {
     "data": {
      "text/plain": [
       "(array([[220, 252, 233, ..., 247, 116, 141],\n",
       "        [224, 255, 237, ..., 250, 117, 141],\n",
       "        [216, 255, 238, ..., 250, 116, 145],\n",
       "        ...,\n",
       "        [123, 188, 166, ..., 187, 109, 158],\n",
       "        [146, 210, 188, ..., 207, 110, 157],\n",
       "        [159, 224, 199, ..., 219, 109, 157]], dtype=uint8),\n",
       " array([[ 71, 112, 137, ..., 124, 132, 154],\n",
       "        [ 74, 114, 139, ..., 126, 132, 154],\n",
       "        [ 81, 121, 146, ..., 133, 132, 154],\n",
       "        ...,\n",
       "        [ 95, 142, 164, ..., 153, 129, 156],\n",
       "        [ 73, 120, 142, ..., 131, 130, 157],\n",
       "        [ 93, 140, 162, ..., 151, 130, 156]], dtype=uint8))"
      ]
     },
     "execution_count": 3,
     "metadata": {},
     "output_type": "execute_result"
    }
   ],
   "source": [
    "get_training('train_img/t1.jpg')"
   ]
  },
  {
   "cell_type": "code",
   "execution_count": 67,
   "metadata": {},
   "outputs": [
    {
     "name": "stdout",
     "output_type": "stream",
     "text": [
      "Obtaining plant parts...\n",
      "Obtaining background parts...\n"
     ]
    }
   ],
   "source": [
    "plant, back = get_training('train_img/t1.jpg')\n",
    "X_train, y_train = prepare_training(plant, back)"
   ]
  },
  {
   "cell_type": "code",
   "execution_count": 68,
   "metadata": {},
   "outputs": [
    {
     "name": "stdout",
     "output_type": "stream",
     "text": [
      "1.8555887921379508\n"
     ]
    }
   ],
   "source": [
    "start = perf_counter()\n",
    "clf = RandomForestClassifier(n_estimators=100)\n",
    "clf = clf.fit(X_train, y_train)\n",
    "end = perf_counter()\n",
    "print(end-start)"
   ]
  },
  {
   "cell_type": "code",
   "execution_count": 69,
   "metadata": {},
   "outputs": [],
   "source": [
    "# Imported images are stored in a numpy array in B-G-R order.\n",
    "\n",
    "img_BGR = cv2.imread('train_img/t1.jpg')\n",
    "\n",
    "# Calculate also the image data in the HSV and LAB colour spaces\n",
    "img_HSV = cv2.cvtColor(img_BGR, cv2.COLOR_BGR2HSV)\n",
    "img_LAB = cv2.cvtColor(img_BGR, cv2.COLOR_BGR2LAB)\n",
    "\n",
    "# concatenate the 3 images to create the input data for the model.\n",
    "img_final = np.concatenate((img_BGR, img_HSV, img_LAB), axis=2).reshape((-1, 9))"
   ]
  },
  {
   "cell_type": "code",
   "execution_count": 70,
   "metadata": {},
   "outputs": [
    {
     "name": "stdout",
     "output_type": "stream",
     "text": [
      "2.462537905211093\n"
     ]
    }
   ],
   "source": [
    "start = perf_counter()\n",
    "test_pred = clf.predict(img_final)\n",
    "end = perf_counter()\n",
    "print(end-start)\n",
    "\n",
    "test_pred = test_pred.reshape((len(test_pred),1))\n",
    "test_pred = np.concatenate((test_pred, test_pred, test_pred), axis=1).reshape((img_BGR.shape[0], img_BGR.shape[1], 3))"
   ]
  },
  {
   "cell_type": "code",
   "execution_count": 71,
   "metadata": {},
   "outputs": [],
   "source": [
    "new_image = np.multiply(img_BGR, test_pred)\n",
    "\n",
    "resized = cv2.resize(new_image, (0,0), fx=0.5, fy=0.5)\n",
    "\n",
    "cv2.imshow('t1', new_image.astype(np.uint8))\n",
    "cv2.waitKey(0)\n",
    "cv2.destroyAllWindows()"
   ]
  },
  {
   "cell_type": "markdown",
   "metadata": {},
   "source": [
    "Try some erosion and dilation (opening)"
   ]
  },
  {
   "cell_type": "code",
   "execution_count": 39,
   "metadata": {},
   "outputs": [
    {
     "name": "stdout",
     "output_type": "stream",
     "text": [
      "3.8020472797950333\n"
     ]
    }
   ],
   "source": [
    "# Imported images are stored in a numpy array in B-G-R order.\n",
    "\n",
    "img_BGR = cv2.imread('train_img/t1.jpg')\n",
    "\n",
    "# Calculate also the image data in the HSV and LAB colour spaces\n",
    "img_HSV = cv2.cvtColor(img_BGR, cv2.COLOR_BGR2HSV)\n",
    "img_LAB = cv2.cvtColor(img_BGR, cv2.COLOR_BGR2LAB)\n",
    "\n",
    "# concatenate the 3 images to create the input data for the model.\n",
    "img_final = np.concatenate((img_BGR, img_HSV, img_LAB), axis=2).reshape((-1, 9))\n",
    "\n",
    "start = perf_counter()\n",
    "test_pred = clf.predict(img_final)\n",
    "end = perf_counter()\n",
    "print(end-start)\n",
    "\n",
    "test_pred = test_pred.reshape((len(test_pred),1))\n",
    "test_pred = np.concatenate((test_pred, test_pred, test_pred), axis=1).reshape((img_BGR.shape[0], img_BGR.shape[1], 3))\n",
    "\n",
    "new_image_1 = np.multiply(img_BGR, test_pred)\n",
    "\n",
    "cv2.imshow('t1', new_image_1.astype(np.uint8))\n",
    "cv2.waitKey(0)\n",
    "cv2.destroyAllWindows()"
   ]
  },
  {
   "cell_type": "code",
   "execution_count": 43,
   "metadata": {},
   "outputs": [],
   "source": [
    "kernel = np.ones((4,4),np.uint8)\n",
    "opening = cv2.morphologyEx(test_pred, cv2.MORPH_OPEN, kernel)\n",
    "new_image_2 = np.multiply(img_BGR, opening)\n",
    "\n",
    "cv2.imshow('t1', new_image_2.astype(np.uint8))\n",
    "cv2.waitKey(0)\n",
    "cv2.destroyAllWindows()"
   ]
  },
  {
   "cell_type": "code",
   "execution_count": 72,
   "metadata": {},
   "outputs": [],
   "source": [
    "kernel = np.ones((4,4),np.uint8)\n",
    "\n",
    "erosion = cv2.erode(test_pred,kernel,iterations = 1)\n",
    "new_image_3 = np.multiply(img_BGR, erosion).astype(np.uint8)\n",
    "\n",
    "cv2.imshow('t1', new_image_3.astype(np.uint8))\n",
    "cv2.waitKey(0)\n",
    "cv2.destroyAllWindows()"
   ]
  },
  {
   "cell_type": "markdown",
   "metadata": {},
   "source": [
    "We can erode the image so that all that is left is definitely plant, then use that data to re-train the model. This will increase the training set size and hopefully improve results."
   ]
  },
  {
   "cell_type": "markdown",
   "metadata": {},
   "source": [
    "Here we will only all pixels that are all zeros."
   ]
  },
  {
   "cell_type": "code",
   "execution_count": 73,
   "metadata": {},
   "outputs": [],
   "source": [
    "mask = np.all(new_image_3 == 0, axis=2)\n",
    "plant_HSV = cv2.cvtColor(new_image_3, cv2.COLOR_BGR2HSV)\n",
    "plant_LAB = cv2.cvtColor(new_image_3, cv2.COLOR_BGR2LAB)\n",
    "plant_new = np.concatenate((new_image_3, plant_HSV, plant_LAB), axis=2)\n",
    "\n",
    "new_plant_data = plant_new[~mask]"
   ]
  },
  {
   "cell_type": "code",
   "execution_count": 74,
   "metadata": {},
   "outputs": [
    {
     "name": "stdout",
     "output_type": "stream",
     "text": [
      "3.965928876227281\n",
      "2.41469521871295\n"
     ]
    }
   ],
   "source": [
    "X_train, y_train = prepare_training(new_plant_data, back)\n",
    "\n",
    "start = perf_counter()\n",
    "clf = RandomForestClassifier(n_estimators=100)\n",
    "clf = clf.fit(X_train, y_train)\n",
    "end = perf_counter()\n",
    "print(end-start)\n",
    "\n",
    "img_BGR = cv2.imread('train_img/t1.jpg')\n",
    "img_HSV = cv2.cvtColor(img_BGR, cv2.COLOR_BGR2HSV)\n",
    "img_LAB = cv2.cvtColor(img_BGR, cv2.COLOR_BGR2LAB)\n",
    "img_final = np.concatenate((img_BGR, img_HSV, img_LAB), axis=2).reshape((-1, 9))\n",
    "\n",
    "start = perf_counter()\n",
    "test_pred = clf.predict(img_final)\n",
    "end = perf_counter()\n",
    "print(end-start)\n",
    "\n",
    "test_pred = test_pred.reshape((len(test_pred),1))\n",
    "test_pred = np.concatenate((test_pred, test_pred, test_pred), axis=1).reshape((img_BGR.shape[0], img_BGR.shape[1], 3))"
   ]
  },
  {
   "cell_type": "code",
   "execution_count": 75,
   "metadata": {},
   "outputs": [],
   "source": [
    "new_image = np.multiply(img_BGR, test_pred)\n",
    "\n",
    "resized = cv2.resize(new_image, (0,0), fx=0.5, fy=0.5)\n",
    "\n",
    "cv2.imshow('t1', new_image.astype(np.uint8))\n",
    "cv2.waitKey(0)\n",
    "cv2.destroyAllWindows()"
   ]
  },
  {
   "cell_type": "markdown",
   "metadata": {},
   "source": [
    "It seems that adding erosion does not improve the training data set, which is strange."
   ]
  },
  {
   "cell_type": "code",
   "execution_count": null,
   "metadata": {},
   "outputs": [],
   "source": []
  }
 ],
 "metadata": {
  "kernelspec": {
   "display_name": "Python 3",
   "language": "python",
   "name": "python3"
  },
  "language_info": {
   "codemirror_mode": {
    "name": "ipython",
    "version": 3
   },
   "file_extension": ".py",
   "mimetype": "text/x-python",
   "name": "python",
   "nbconvert_exporter": "python",
   "pygments_lexer": "ipython3",
   "version": "3.6.5"
  }
 },
 "nbformat": 4,
 "nbformat_minor": 2
}
