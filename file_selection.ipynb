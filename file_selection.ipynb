{
 "cells": [
  {
   "cell_type": "code",
   "execution_count": 19,
   "metadata": {},
   "outputs": [],
   "source": [
    "from tkinter import Tk\n",
    "from tkinter.filedialog import askopenfilename\n",
    "\n",
    "import cv2\n",
    "import os\n",
    "import numpy as np\n",
    "import pandas as pd\n",
    "import matplotlib.pyplot as plt\n",
    "import image_select\n",
    "\n",
    "from sklearn.ensemble import RandomForestClassifier\n",
    "from time import perf_counter\n",
    "from sklearn import tree\n",
    "\n",
    "import time"
   ]
  },
  {
   "cell_type": "code",
   "execution_count": 7,
   "metadata": {},
   "outputs": [],
   "source": [
    "root = Tk()\n",
    "filename = askopenfilename()\n",
    "root.destroy()"
   ]
  },
  {
   "cell_type": "code",
   "execution_count": 9,
   "metadata": {},
   "outputs": [
    {
     "name": "stdout",
     "output_type": "stream",
     "text": [
      "Obtaining plant parts...\n",
      "Obtaining background parts...\n"
     ]
    }
   ],
   "source": [
    "plant, back = image_select.get_training(filename)\n",
    "X_train, y_train = image_select.prepare_training(plant, back)"
   ]
  },
  {
   "cell_type": "code",
   "execution_count": 11,
   "metadata": {},
   "outputs": [],
   "source": [
    "def train_plants(file):\n",
    "    plant, back = image_select.get_training(file)\n",
    "    X_train, y_train = image_select.prepare_training(plant, back)\n",
    "    \n",
    "    clf = RandomForestClassifier(n_estimators=100)\n",
    "    clf.fit(X_train, y_train)\n",
    "    \n",
    "    return clf"
   ]
  },
  {
   "cell_type": "code",
   "execution_count": 25,
   "metadata": {},
   "outputs": [
    {
     "name": "stdout",
     "output_type": "stream",
     "text": [
      "Obtaining plant parts...\n",
      "Obtaining background parts...\n"
     ]
    }
   ],
   "source": [
    "tree = train_plants(filename)"
   ]
  },
  {
   "cell_type": "code",
   "execution_count": 26,
   "metadata": {},
   "outputs": [],
   "source": [
    "def remove_back(image, classifier):\n",
    "    start = time.perf_counter()\n",
    "    \n",
    "    img_BGR = cv2.imread(image)\n",
    "    img_HSV = cv2.cvtColor(img_BGR, cv2.COLOR_BGR2HSV)\n",
    "    img_LAB = cv2.cvtColor(img_BGR, cv2.COLOR_BGR2LAB)\n",
    "    img_final = np.concatenate((img_BGR, img_HSV, img_LAB), axis=2).reshape((-1, 9))\n",
    "    \n",
    "    test_pred = classifier.predict(img_final)\n",
    "    test_pred = test_pred.reshape((len(test_pred),1))\n",
    "    test_pred = np.concatenate((test_pred, test_pred, test_pred), axis=1).reshape((img_BGR.shape[0], img_BGR.shape[1], 3))\n",
    "    \n",
    "    new_image = np.multiply(img_BGR, test_pred).astype(np.uint8)\n",
    "    \n",
    "    end = time.perf_counter()\n",
    "    print(end - start)\n",
    "    \n",
    "    cv2.imshow('trained image', new_image)\n",
    "    cv2.waitKey(0)\n",
    "    cv2.destroyAllWindows()\n",
    "    \n",
    "    return new_image"
   ]
  },
  {
   "cell_type": "code",
   "execution_count": 27,
   "metadata": {},
   "outputs": [
    {
     "name": "stdout",
     "output_type": "stream",
     "text": [
      "4.082037141561727\n"
     ]
    }
   ],
   "source": [
    "new_image = remove_back(filename, tree)"
   ]
  },
  {
   "cell_type": "code",
   "execution_count": null,
   "metadata": {},
   "outputs": [],
   "source": []
  }
 ],
 "metadata": {
  "kernelspec": {
   "display_name": "Python 3",
   "language": "python",
   "name": "python3"
  },
  "language_info": {
   "codemirror_mode": {
    "name": "ipython",
    "version": 3
   },
   "file_extension": ".py",
   "mimetype": "text/x-python",
   "name": "python",
   "nbconvert_exporter": "python",
   "pygments_lexer": "ipython3",
   "version": "3.6.5"
  }
 },
 "nbformat": 4,
 "nbformat_minor": 2
}
